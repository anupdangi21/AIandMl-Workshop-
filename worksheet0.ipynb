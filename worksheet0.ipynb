{
  "nbformat": 4,
  "nbformat_minor": 0,
  "metadata": {
    "colab": {
      "provenance": []
    },
    "kernelspec": {
      "name": "python3",
      "display_name": "Python 3"
    },
    "language_info": {
      "name": "python"
    }
  },
  "cells": [
    {
      "cell_type": "markdown",
      "source": [
        "importing the library"
      ],
      "metadata": {
        "id": "y7FhstywH8XC"
      }
    },
    {
      "cell_type": "code",
      "source": [
        "import pandas as pd\n",
        "import numpy as np\n",
        "import time"
      ],
      "metadata": {
        "id": "qP5kCqRUH-Ew"
      },
      "execution_count": 1,
      "outputs": []
    },
    {
      "cell_type": "markdown",
      "source": [
        "# 1. Initialize an empty array with size 2X2"
      ],
      "metadata": {
        "id": "0d0XjjSWIT23"
      }
    },
    {
      "cell_type": "code",
      "source": [
        "empty_array = np.empty((2, 2))\n",
        "print(empty_array)\n"
      ],
      "metadata": {
        "colab": {
          "base_uri": "https://localhost:8080/"
        },
        "id": "yPjaYn6BIUhK",
        "outputId": "fc879d3c-2fe0-4b73-c512-41f56703fbd3"
      },
      "execution_count": null,
      "outputs": [
        {
          "output_type": "stream",
          "name": "stdout",
          "text": [
            "[[3.74906666e-316 0.00000000e+000]\n",
            " [4.24101739e-307 6.55876419e-310]]\n"
          ]
        }
      ]
    },
    {
      "cell_type": "markdown",
      "source": [
        "# 2. Initialize an all one array with size 4X2\n"
      ],
      "metadata": {
        "id": "mvmzqLTVIUsQ"
      }
    },
    {
      "cell_type": "code",
      "source": [
        "ones_array = np.ones((4, 2))\n",
        "print(ones_array)\n"
      ],
      "metadata": {
        "colab": {
          "base_uri": "https://localhost:8080/"
        },
        "id": "IkEGriYUIU2U",
        "outputId": "bca5661c-c084-4533-b2f5-e8e8d15feeb6"
      },
      "execution_count": null,
      "outputs": [
        {
          "output_type": "stream",
          "name": "stdout",
          "text": [
            "[[1. 1.]\n",
            " [1. 1.]\n",
            " [1. 1.]\n",
            " [1. 1.]]\n"
          ]
        }
      ]
    },
    {
      "cell_type": "markdown",
      "source": [
        "# 3. Return a new array of given shape and type, filled with fill value\n"
      ],
      "metadata": {
        "id": "3Hzj-w1yIVOW"
      }
    },
    {
      "cell_type": "code",
      "source": [
        "filled_array = np.full((3, 3), 7)\n",
        "print(filled_array)\n",
        "\n"
      ],
      "metadata": {
        "colab": {
          "base_uri": "https://localhost:8080/"
        },
        "id": "OH7FFnFQIVZj",
        "outputId": "dcd0f073-64a1-4b23-a42c-a7327bec51b8"
      },
      "execution_count": null,
      "outputs": [
        {
          "output_type": "stream",
          "name": "stdout",
          "text": [
            "[[7 7 7]\n",
            " [7 7 7]\n",
            " [7 7 7]]\n"
          ]
        }
      ]
    },
    {
      "cell_type": "markdown",
      "source": [
        "# 4. Return a new array of zeros with same shape and type as a given array\n"
      ],
      "metadata": {
        "id": "JnOVdpvBIVkf"
      }
    },
    {
      "cell_type": "code",
      "source": [
        "sample_array = np.array([[1, 2, 3], [4, 5, 6]])\n",
        "zeros_like_array = np.zeros_like(sample_array)\n",
        "print(zeros_like_array)"
      ],
      "metadata": {
        "colab": {
          "base_uri": "https://localhost:8080/"
        },
        "id": "HfGWadYaIVuf",
        "outputId": "74ab2427-442c-43d4-8725-ead345002a22"
      },
      "execution_count": null,
      "outputs": [
        {
          "output_type": "stream",
          "name": "stdout",
          "text": [
            "[[0 0 0]\n",
            " [0 0 0]]\n"
          ]
        }
      ]
    },
    {
      "cell_type": "markdown",
      "source": [
        "# 5. Return a new array of ones with same shape and type as a given array\n"
      ],
      "metadata": {
        "id": "XmURDJExIV-T"
      }
    },
    {
      "cell_type": "code",
      "source": [
        "ones_like_array = np.ones_like(sample_array)\n",
        "print(ones_like_array)"
      ],
      "metadata": {
        "colab": {
          "base_uri": "https://localhost:8080/"
        },
        "id": "7nlBj4rgIWIu",
        "outputId": "e51fd99e-735d-4cb6-9b8e-50ce9b8a1c5a"
      },
      "execution_count": null,
      "outputs": [
        {
          "output_type": "stream",
          "name": "stdout",
          "text": [
            "[[1 1 1]\n",
            " [1 1 1]]\n"
          ]
        }
      ]
    },
    {
      "cell_type": "markdown",
      "source": [
        "# 6. Convert an existing list to a NumPy array\n"
      ],
      "metadata": {
        "id": "5nvxsmr_Ivmu"
      }
    },
    {
      "cell_type": "code",
      "source": [
        "new_list = [1, 2, 3, 4]\n",
        "numpy_array = np.array(new_list)\n",
        "print(numpy_array)"
      ],
      "metadata": {
        "colab": {
          "base_uri": "https://localhost:8080/"
        },
        "id": "5CS03VRoIvw6",
        "outputId": "da270c13-5ed3-44c5-f9ec-51c178a0ff13"
      },
      "execution_count": null,
      "outputs": [
        {
          "output_type": "stream",
          "name": "stdout",
          "text": [
            "[1 2 3 4]\n"
          ]
        }
      ]
    },
    {
      "cell_type": "markdown",
      "source": [
        "Problem 2"
      ],
      "metadata": {
        "id": "WcFfGIrZJxJX"
      }
    },
    {
      "cell_type": "markdown",
      "source": [
        "Create an array with values ranging from 10 to 49. {Hint:np.arrange()}."
      ],
      "metadata": {
        "id": "IxctsVEKJZYW"
      }
    },
    {
      "cell_type": "code",
      "source": [
        "array_range = np.arange(10, 50)\n",
        "print(array_range)"
      ],
      "metadata": {
        "colab": {
          "base_uri": "https://localhost:8080/"
        },
        "id": "oVF9KQptJZhv",
        "outputId": "77e641c6-5029-4e3e-f72d-15d3fc229d34"
      },
      "execution_count": null,
      "outputs": [
        {
          "output_type": "stream",
          "name": "stdout",
          "text": [
            "[10 11 12 13 14 15 16 17 18 19 20 21 22 23 24 25 26 27 28 29 30 31 32 33\n",
            " 34 35 36 37 38 39 40 41 42 43 44 45 46 47 48 49]\n"
          ]
        }
      ]
    },
    {
      "cell_type": "markdown",
      "source": [
        "Create a 3X3 matrix with values ranging from 0 to 8.\n",
        "{Hint:look for np.reshape()}"
      ],
      "metadata": {
        "id": "3lXsZevOJZsb"
      }
    },
    {
      "cell_type": "code",
      "source": [
        "matrix_3x3 = np.arange(9).reshape(3, 3)\n",
        "print(matrix_3x3)"
      ],
      "metadata": {
        "colab": {
          "base_uri": "https://localhost:8080/"
        },
        "id": "GHJR1Oo6JZ2C",
        "outputId": "03b0489d-0c45-4daf-b883-71f5d5ede668"
      },
      "execution_count": null,
      "outputs": [
        {
          "output_type": "stream",
          "name": "stdout",
          "text": [
            "[[0 1 2]\n",
            " [3 4 5]\n",
            " [6 7 8]]\n"
          ]
        }
      ]
    },
    {
      "cell_type": "markdown",
      "source": [
        "Create a 3X3 identity matrix.{Hint:np.eye()}"
      ],
      "metadata": {
        "id": "Y-SLDcMxJaAf"
      }
    },
    {
      "cell_type": "code",
      "source": [
        "identity_matrix = np.eye(3)\n",
        "print(identity_matrix)"
      ],
      "metadata": {
        "colab": {
          "base_uri": "https://localhost:8080/"
        },
        "id": "-b6cjFFdJaKO",
        "outputId": "80c68075-979f-43c6-f574-874031dc1058"
      },
      "execution_count": null,
      "outputs": [
        {
          "output_type": "stream",
          "name": "stdout",
          "text": [
            "[[1. 0. 0.]\n",
            " [0. 1. 0.]\n",
            " [0. 0. 1.]]\n"
          ]
        }
      ]
    },
    {
      "cell_type": "markdown",
      "source": [
        "Create a random array of size 30 and find the mean of the array.\n",
        "{Hint:check for np.random.random() and array.mean() function}"
      ],
      "metadata": {
        "id": "tNyvu_blJaT_"
      }
    },
    {
      "cell_type": "code",
      "source": [
        "random_array = np.random.random(30)\n",
        "mean_value = random_array.mean()\n",
        "print(mean_value)"
      ],
      "metadata": {
        "colab": {
          "base_uri": "https://localhost:8080/"
        },
        "id": "pwpbAwA3JaeG",
        "outputId": "42c65a03-00d7-4e17-c026-a7e95af5cfa6"
      },
      "execution_count": null,
      "outputs": [
        {
          "output_type": "stream",
          "name": "stdout",
          "text": [
            "0.4629980374843635\n"
          ]
        }
      ]
    },
    {
      "cell_type": "markdown",
      "source": [
        "Create a 10X10 array with random values and find the minimum and maximum values."
      ],
      "metadata": {
        "id": "UvQQ0kW1Janp"
      }
    },
    {
      "cell_type": "code",
      "source": [
        "random_matrix = np.random.random((10, 10))\n",
        "min_value = random_matrix.min()\n",
        "max_value = random_matrix.max()\n",
        "print(\"Minimum value:\", min_value)\n",
        "print(\"Maximum value:\", max_value)"
      ],
      "metadata": {
        "colab": {
          "base_uri": "https://localhost:8080/"
        },
        "id": "Y2CHzLfJJawc",
        "outputId": "a0619be0-a5f3-4947-9054-f67f917889b7"
      },
      "execution_count": null,
      "outputs": [
        {
          "output_type": "stream",
          "name": "stdout",
          "text": [
            "Minimum value: 0.008039251497180655\n",
            "Maximum value: 0.987014981336142\n"
          ]
        }
      ]
    },
    {
      "cell_type": "markdown",
      "source": [
        "Create a zero array of size 10 and replace 5th element with 1."
      ],
      "metadata": {
        "id": "egbNexSQJa6k"
      }
    },
    {
      "cell_type": "code",
      "source": [
        "zero_array = np.zeros(10)\n",
        "zero_array[4] = 1\n",
        "print(zero_array)"
      ],
      "metadata": {
        "colab": {
          "base_uri": "https://localhost:8080/"
        },
        "id": "QNsqMTvrJbEL",
        "outputId": "b8b47b94-7659-408f-90d9-dccb6455782a"
      },
      "execution_count": null,
      "outputs": [
        {
          "output_type": "stream",
          "name": "stdout",
          "text": [
            "[0. 0. 0. 0. 1. 0. 0. 0. 0. 0.]\n"
          ]
        }
      ]
    },
    {
      "cell_type": "markdown",
      "source": [
        "Reverse an array arr = [1,2,0,0,4,0]."
      ],
      "metadata": {
        "id": "zGM6-Q58JbN5"
      }
    },
    {
      "cell_type": "code",
      "source": [
        "arr = np.array([1, 2, 0, 0, 4, 0])\n",
        "reversed_arr = arr[::-1]\n",
        "print(reversed_arr)"
      ],
      "metadata": {
        "colab": {
          "base_uri": "https://localhost:8080/"
        },
        "id": "vJFRiQ-JJbYI",
        "outputId": "f2ec083c-f158-4c65-ce29-ff8715e151ae"
      },
      "execution_count": null,
      "outputs": [
        {
          "output_type": "stream",
          "name": "stdout",
          "text": [
            "[0 4 0 0 2 1]\n"
          ]
        }
      ]
    },
    {
      "cell_type": "markdown",
      "source": [
        "Create a 2d array with 1 on border and 0 inside."
      ],
      "metadata": {
        "id": "yOXW0uUfJbhW"
      }
    },
    {
      "cell_type": "code",
      "source": [
        "border_array = np.ones((5, 5))\n",
        "border_array[1:-1, 1:-1] = 0\n",
        "print(border_array)"
      ],
      "metadata": {
        "colab": {
          "base_uri": "https://localhost:8080/"
        },
        "id": "-1TZnxxrJbrD",
        "outputId": "024b661f-39c0-4efb-cca4-a2202fd465a8"
      },
      "execution_count": null,
      "outputs": [
        {
          "output_type": "stream",
          "name": "stdout",
          "text": [
            "[[1. 1. 1. 1. 1.]\n",
            " [1. 0. 0. 0. 1.]\n",
            " [1. 0. 0. 0. 1.]\n",
            " [1. 0. 0. 0. 1.]\n",
            " [1. 1. 1. 1. 1.]]\n"
          ]
        }
      ]
    },
    {
      "cell_type": "markdown",
      "source": [
        "Create a 8X8 matrix and fill it with a checkerboard pattern."
      ],
      "metadata": {
        "id": "DY2SD9WhJb1S"
      }
    },
    {
      "cell_type": "code",
      "source": [
        "checkerboard = np.zeros((8, 8), dtype=int)\n",
        "checkerboard[1::2, ::2] = 1\n",
        "checkerboard[::2, 1::2] = 1\n",
        "print(checkerboard)\n",
        "\n"
      ],
      "metadata": {
        "colab": {
          "base_uri": "https://localhost:8080/"
        },
        "id": "PyEx5pXkJb-h",
        "outputId": "4378def7-a252-411b-e338-16b8811264c4"
      },
      "execution_count": null,
      "outputs": [
        {
          "output_type": "stream",
          "name": "stdout",
          "text": [
            "[[0 1 0 1 0 1 0 1]\n",
            " [1 0 1 0 1 0 1 0]\n",
            " [0 1 0 1 0 1 0 1]\n",
            " [1 0 1 0 1 0 1 0]\n",
            " [0 1 0 1 0 1 0 1]\n",
            " [1 0 1 0 1 0 1 0]\n",
            " [0 1 0 1 0 1 0 1]\n",
            " [1 0 1 0 1 0 1 0]]\n"
          ]
        }
      ]
    },
    {
      "cell_type": "markdown",
      "source": [
        "Problem - 3: Array Operations:\n",
        "For the following arrays:\n",
        "x = np.array([[1,2],[3,5]]) and y = np.array([[5,6],[7,8]]);\n",
        "v = np.array([9,10]) and w = np.array([11,12]);\n",
        "Complete all the task using numpy:"
      ],
      "metadata": {
        "id": "-Zaqtv7uMZSM"
      }
    },
    {
      "cell_type": "code",
      "source": [
        "x = np.array([[1, 2], [3, 5]])\n",
        "y = np.array([[5, 6], [7, 8]])\n",
        "v = np.array([9, 10])\n",
        "w = np.array([11, 12])"
      ],
      "metadata": {
        "id": "BPoWl-FlM3OV"
      },
      "execution_count": null,
      "outputs": []
    },
    {
      "cell_type": "markdown",
      "source": [
        "Add the two array."
      ],
      "metadata": {
        "id": "WJy-P43sMZei"
      }
    },
    {
      "cell_type": "code",
      "source": [
        "addition = x + y\n",
        "print(addition)"
      ],
      "metadata": {
        "colab": {
          "base_uri": "https://localhost:8080/"
        },
        "id": "QH2RjkvlMe3R",
        "outputId": "5315987b-538f-4bfb-f1b5-9da9c66fb3e7"
      },
      "execution_count": null,
      "outputs": [
        {
          "output_type": "stream",
          "name": "stdout",
          "text": [
            "[[ 6  8]\n",
            " [10 13]]\n"
          ]
        }
      ]
    },
    {
      "cell_type": "markdown",
      "source": [
        "Subtract the two array."
      ],
      "metadata": {
        "id": "rLpxRPovMfBx"
      }
    },
    {
      "cell_type": "code",
      "source": [
        "subtraction = x-y\n",
        "print(subtraction)"
      ],
      "metadata": {
        "colab": {
          "base_uri": "https://localhost:8080/"
        },
        "id": "x4fc-qpJMfLG",
        "outputId": "968847b7-79e7-44e3-8842-b288f0ac74a8"
      },
      "execution_count": null,
      "outputs": [
        {
          "output_type": "stream",
          "name": "stdout",
          "text": [
            "[[-4 -4]\n",
            " [-4 -3]]\n"
          ]
        }
      ]
    },
    {
      "cell_type": "markdown",
      "source": [
        "Multiply the array with any integers of your choice."
      ],
      "metadata": {
        "id": "e6qicWLSMfVa"
      }
    },
    {
      "cell_type": "code",
      "source": [
        "multiplication = x * 2\n",
        "print(multiplication)"
      ],
      "metadata": {
        "colab": {
          "base_uri": "https://localhost:8080/"
        },
        "id": "u0B5UXnVMfea",
        "outputId": "82151b79-c4a6-4d5c-8b37-e7d0e354dd5b"
      },
      "execution_count": null,
      "outputs": [
        {
          "output_type": "stream",
          "name": "stdout",
          "text": [
            "[[ 2  4]\n",
            " [ 6 10]]\n"
          ]
        }
      ]
    },
    {
      "cell_type": "markdown",
      "source": [
        "4. Find the square of each element of the array."
      ],
      "metadata": {
        "id": "YSQHuUt3Mfna"
      }
    },
    {
      "cell_type": "code",
      "source": [
        "square_x = np.square(x)\n",
        "print(square_x)"
      ],
      "metadata": {
        "colab": {
          "base_uri": "https://localhost:8080/"
        },
        "id": "S5kpXis1MfwL",
        "outputId": "85dba692-fdfc-4552-cf19-3bb01d0689bd"
      },
      "execution_count": null,
      "outputs": [
        {
          "output_type": "stream",
          "name": "stdout",
          "text": [
            "[[ 1  4]\n",
            " [ 9 25]]\n"
          ]
        }
      ]
    },
    {
      "cell_type": "markdown",
      "source": [
        "5. Find the dot product between: v(and)w ; x(and)v ; x(and)y."
      ],
      "metadata": {
        "id": "1--kojLmMf9M"
      }
    },
    {
      "cell_type": "code",
      "source": [
        "dot_vw = np.dot(v, w)\n",
        "dot_xv = np.dot(x, v)\n",
        "dot_xy = np.dot(x, y)\n",
        "print(\"Dot product of v and w:\", dot_vw)\n",
        "print(\"Dot product of x and v:\", dot_xv)\n",
        "print(\"Dot product of x and y:\", dot_xy)"
      ],
      "metadata": {
        "colab": {
          "base_uri": "https://localhost:8080/"
        },
        "id": "u6KbP6WUMgIc",
        "outputId": "b1a33305-fd1b-486a-a478-49220f305fc0"
      },
      "execution_count": null,
      "outputs": [
        {
          "output_type": "stream",
          "name": "stdout",
          "text": [
            "Dot product of v and w: 219\n",
            "Dot product of x and v: [29 77]\n",
            "Dot product of x and y: [[19 22]\n",
            " [50 58]]\n"
          ]
        }
      ]
    },
    {
      "cell_type": "markdown",
      "source": [
        "Concatenate x(and)y along row and Concatenate v(and)w along column.\n",
        "{Hint:try np.concatenate() or np.vstack() functions."
      ],
      "metadata": {
        "id": "gTVr9pBjMo2W"
      }
    },
    {
      "cell_type": "code",
      "source": [
        "concat_xy_row = np.concatenate((x, y), axis=0)\n",
        "concat_vw_col = np.vstack((v, w))\n",
        "print(\"Concatenated x and y along row:\")\n",
        "print(concat_xy_row)\n",
        "print(\"Concatenated v and w along column:\")\n",
        "print(concat_vw_col)"
      ],
      "metadata": {
        "colab": {
          "base_uri": "https://localhost:8080/"
        },
        "id": "KFoNw-jwMpFo",
        "outputId": "f60230e3-df9a-47e2-dffa-45b07baed10d"
      },
      "execution_count": null,
      "outputs": [
        {
          "output_type": "stream",
          "name": "stdout",
          "text": [
            "Concatenated x and y along row:\n",
            "[[1 2]\n",
            " [3 5]\n",
            " [5 6]\n",
            " [7 8]]\n",
            "Concatenated v and w along column:\n",
            "[[ 9 10]\n",
            " [11 12]]\n"
          ]
        }
      ]
    },
    {
      "cell_type": "markdown",
      "source": [
        "Concatenate x(and)v; if you get an error, observe and explain why did you get the error?"
      ],
      "metadata": {
        "id": "qTpyywLEMt0l"
      }
    },
    {
      "cell_type": "code",
      "source": [
        "try:\n",
        "    concat_xv = np.concatenate((x, v), axis=0)\n",
        "except ValueError as e:\n",
        "    concat_xv = str(e)\n",
        "    print(\"Error:\", concat_xv)"
      ],
      "metadata": {
        "colab": {
          "base_uri": "https://localhost:8080/"
        },
        "id": "2rZlQ1kvMvx2",
        "outputId": "26235d12-14da-4cc9-8f5b-abd89cb97e19"
      },
      "execution_count": null,
      "outputs": [
        {
          "output_type": "stream",
          "name": "stdout",
          "text": [
            "Error: all the input arrays must have same number of dimensions, but the array at index 0 has 2 dimension(s) and the array at index 1 has 1 dimension(s)\n"
          ]
        }
      ]
    },
    {
      "cell_type": "markdown",
      "source": [
        "Explanation of the error:\n",
        "# The error occurs because `x` is a 2x2 matrix, and `v` is a 1D array with shape (2,).\n",
        "## In order to concatenate them, `v` must be reshaped to a 2D array, e.g., `v.reshape(1, -1)`."
      ],
      "metadata": {
        "id": "MhSCLE0LOx7o"
      }
    },
    {
      "cell_type": "markdown",
      "source": [
        "Problem - 4: Matrix Operations:\n",
        "• For the following arrays:\n",
        "A = np.array([[3,4],[7,8]]) and B = np.array([[5,3],[2,1]]);\n",
        "Prove following with Numpy:"
      ],
      "metadata": {
        "id": "t5gbFVrnQaqa"
      }
    },
    {
      "cell_type": "code",
      "source": [
        "A = np.array([[3, 4], [7, 8]])\n",
        "B = np.array([[5, 3], [2, 1]])"
      ],
      "metadata": {
        "id": "haqLV2kfR8Mr"
      },
      "execution_count": null,
      "outputs": []
    },
    {
      "cell_type": "markdown",
      "source": [
        "1. Prove A.A−1 = I."
      ],
      "metadata": {
        "id": "6KxNRLEhQwgb"
      }
    },
    {
      "cell_type": "code",
      "source": [
        "A_inv = np.linalg.inv(A)\n",
        "identity_matrix = np.dot(A, A_inv)\n",
        "\n",
        "identity_matrix = np.round(identity_matrix, decimals=5)\n",
        "print(identity_matrix)"
      ],
      "metadata": {
        "colab": {
          "base_uri": "https://localhost:8080/"
        },
        "id": "BWMRIoJVQyY_",
        "outputId": "cbc9d33f-57d8-449a-a511-0d58b177a78f"
      },
      "execution_count": null,
      "outputs": [
        {
          "output_type": "stream",
          "name": "stdout",
          "text": [
            "[[1. 0.]\n",
            " [0. 1.]]\n"
          ]
        }
      ]
    },
    {
      "cell_type": "markdown",
      "source": [
        "Prove AB ̸= BA."
      ],
      "metadata": {
        "id": "24qS915tQykW"
      }
    },
    {
      "cell_type": "code",
      "source": [
        "AB = np.dot(A, B)\n",
        "BA = np.dot(B, A)\n",
        "are_not_equal = not np.array_equal(AB, BA)\n",
        "print(are_not_equal)"
      ],
      "metadata": {
        "colab": {
          "base_uri": "https://localhost:8080/"
        },
        "id": "pbbj-rvUQyvv",
        "outputId": "f7cdfc9d-7159-4cdc-f32f-6d22af8d79a2"
      },
      "execution_count": null,
      "outputs": [
        {
          "output_type": "stream",
          "name": "stdout",
          "text": [
            "True\n"
          ]
        }
      ]
    },
    {
      "cell_type": "markdown",
      "source": [
        "Prove (AB)\n",
        "\n",
        "T = BTAT\n",
        "."
      ],
      "metadata": {
        "id": "2Nqy0q-lQy5V"
      }
    },
    {
      "cell_type": "code",
      "source": [
        "AB_T = np.transpose(AB)\n",
        "BT_AT = np.dot(np.transpose(B), np.transpose(A))\n",
        "proof_transpose = np.array_equal(AB_T, BT_AT)\n",
        "print(proof_transpose)"
      ],
      "metadata": {
        "colab": {
          "base_uri": "https://localhost:8080/"
        },
        "id": "aNKUTgDKQzCp",
        "outputId": "fe2ed8b8-034d-49e4-a175-a670fea780c7"
      },
      "execution_count": null,
      "outputs": [
        {
          "output_type": "stream",
          "name": "stdout",
          "text": [
            "True\n"
          ]
        }
      ]
    },
    {
      "cell_type": "markdown",
      "source": [
        "Solve the following system of Linear equation using Inverse Methods.\n",
        "\n",
        "2x − 3y + z = −1\n",
        "x − y + 2z = −3\n",
        "3x + y − z = 9"
      ],
      "metadata": {
        "id": "w4j5CniqQ9al"
      }
    },
    {
      "cell_type": "code",
      "source": [
        "A_matrix = np.array([[2, -3, 1], [1, -1, 2], [3, 1, -1]])\n",
        "B_matrix = np.array([-1, -3, 9])\n",
        "\n",
        "A_inv_matrix = np.linalg.inv(A_matrix)\n",
        "X_solution = np.dot(A_inv_matrix, B_matrix)\n",
        "\n",
        "X_solution_direct = np.linalg.solve(A_matrix, B_matrix)\n",
        "\n",
        "print(\"A * A^(-1) = Identity Matrix:\\n\", identity_matrix)\n",
        "print(\"AB ≠ BA:\", are_not_equal)\n",
        "print(\"(AB)^T = B^T * A^T:\", proof_transpose)\n",
        "print(\"Solution using Inverse Method:\", X_solution)\n",
        "print(\"Solution using np.linalg.solve:\", X_solution_direct)"
      ],
      "metadata": {
        "colab": {
          "base_uri": "https://localhost:8080/"
        },
        "id": "pUQtCaq3Q9kM",
        "outputId": "27ed7038-2549-49c2-9e37-0946a884d375"
      },
      "execution_count": null,
      "outputs": [
        {
          "output_type": "stream",
          "name": "stdout",
          "text": [
            "A * A^(-1) = Identity Matrix:\n",
            " [[1. 0.]\n",
            " [0. 1.]]\n",
            "AB ≠ BA: True\n",
            "(AB)^T = B^T * A^T: True\n",
            "Solution using Inverse Method: [ 2.  1. -2.]\n",
            "Solution using np.linalg.solve: [ 2.  1. -2.]\n"
          ]
        }
      ]
    },
    {
      "cell_type": "markdown",
      "source": [
        "10.2 Experiment: How Fast is Numpy?\n",
        "In this exercise, you will compare the performance and implementation of operations using plain Python\n",
        "lists (arrays) and NumPy arrays. Follow the instructions:"
      ],
      "metadata": {
        "id": "CeRc0ScqXS3F"
      }
    },
    {
      "cell_type": "markdown",
      "source": [
        "1. Element-wise Addition:\n",
        "• Using Python Lists, perform element-wise addition of two lists of size 1, 000, 000. Measure\n",
        "and Print the time taken for this operation."
      ],
      "metadata": {
        "id": "BmckMxQFXTqi"
      }
    },
    {
      "cell_type": "code",
      "source": [
        "size = 1_000_000\n",
        "matrix_size = 1000\n",
        "\n",
        "list1 = [i for i in range(size)]\n",
        "list2 = [i for i in range(size)]\n",
        "\n",
        "array1 = np.arange(size)\n",
        "array2 = np.arange(size)"
      ],
      "metadata": {
        "id": "vbiiOoFTX_-W"
      },
      "execution_count": 2,
      "outputs": []
    },
    {
      "cell_type": "code",
      "source": [
        "# Python lists\n",
        "start = time.time()\n",
        "result_list = [list1[i] + list2[i] for i in range(size)]\n",
        "end = time.time()\n",
        "print(f\"Python list addition time: {end - start:.5f} seconds\")\n",
        "\n"
      ],
      "metadata": {
        "id": "R80AodmWQ93g",
        "colab": {
          "base_uri": "https://localhost:8080/"
        },
        "outputId": "7aa4b9c8-7a88-48dc-c7de-1214478223b3"
      },
      "execution_count": 3,
      "outputs": [
        {
          "output_type": "stream",
          "name": "stdout",
          "text": [
            "Python list addition time: 0.08438 seconds\n"
          ]
        }
      ]
    },
    {
      "cell_type": "markdown",
      "source": [
        "Using Numpy Arrays, Repeat the calculation and measure and print the time taken for\n",
        "this operation."
      ],
      "metadata": {
        "id": "JBh9dADeXXAh"
      }
    },
    {
      "cell_type": "code",
      "source": [
        "# NumPy arrays\n",
        "start = time.time()\n",
        "result_array = array1 + array2\n",
        "end = time.time()\n",
        "print(f\"NumPy addition time: {end - start:.5f} seconds\")"
      ],
      "metadata": {
        "colab": {
          "base_uri": "https://localhost:8080/"
        },
        "id": "X4XgB7H1XXMR",
        "outputId": "efb7515c-113c-4f71-b1f6-e19273f33636"
      },
      "execution_count": 4,
      "outputs": [
        {
          "output_type": "stream",
          "name": "stdout",
          "text": [
            "NumPy addition time: 0.00413 seconds\n"
          ]
        }
      ]
    },
    {
      "cell_type": "markdown",
      "source": [
        "Element-wise Multiplication\n",
        "• Using Python Lists, perform element-wise multiplication of two lists of size 1, 000, 000.\n",
        "Measure and Print the time taken for this operation."
      ],
      "metadata": {
        "id": "mgy9m2QlXXZC"
      }
    },
    {
      "cell_type": "code",
      "source": [
        "start = time.time()\n",
        "result_list = [list1[i] * list2[i] for i in range(size)]\n",
        "end = time.time()\n",
        "print(f\"Python list multiplication time: {end - start:.5f} seconds\")"
      ],
      "metadata": {
        "colab": {
          "base_uri": "https://localhost:8080/"
        },
        "id": "yaEKIsrUXXhl",
        "outputId": "856342c7-af44-4abd-c9a1-76dbfce2ea2e"
      },
      "execution_count": 5,
      "outputs": [
        {
          "output_type": "stream",
          "name": "stdout",
          "text": [
            "Python list multiplication time: 0.05595 seconds\n"
          ]
        }
      ]
    },
    {
      "cell_type": "markdown",
      "source": [
        "Using Numpy Arrays, Repeat the calculation and measure and print the time taken for\n",
        "this operation."
      ],
      "metadata": {
        "id": "5FJue0BAXXsT"
      }
    },
    {
      "cell_type": "code",
      "source": [
        "start = time.time()\n",
        "result_array = array1 * array2\n",
        "end = time.time()\n",
        "print(f\"NumPy multiplication time: {end - start:.5f} seconds\")"
      ],
      "metadata": {
        "colab": {
          "base_uri": "https://localhost:8080/"
        },
        "id": "UTFbDNGqXX1U",
        "outputId": "de219b38-5d19-41be-9884-4a4d101aaaa5"
      },
      "execution_count": 6,
      "outputs": [
        {
          "output_type": "stream",
          "name": "stdout",
          "text": [
            "NumPy multiplication time: 0.00324 seconds\n"
          ]
        }
      ]
    },
    {
      "cell_type": "markdown",
      "source": [
        "Dot Product\n",
        "• Using Python Lists, compute the dot product of two lists of size 1, 000, 000. Measure and\n",
        "Print the time taken for this operation."
      ],
      "metadata": {
        "id": "d_thlftIXYAC"
      }
    },
    {
      "cell_type": "code",
      "source": [
        "start = time.time()\n",
        "dot_product = sum(list1[i] * list2[i] for i in range(size))\n",
        "end = time.time()\n",
        "print(f\"Python list dot product time: {end - start:.5f} seconds\")"
      ],
      "metadata": {
        "colab": {
          "base_uri": "https://localhost:8080/"
        },
        "id": "LQTDYFYSXYKW",
        "outputId": "edd5dd71-e0a7-41b9-e142-5708303411d6"
      },
      "execution_count": 7,
      "outputs": [
        {
          "output_type": "stream",
          "name": "stdout",
          "text": [
            "Python list dot product time: 0.10078 seconds\n"
          ]
        }
      ]
    },
    {
      "cell_type": "markdown",
      "source": [
        "Using Numpy Arrays, Repeat the calculation and measure and print the time taken for\n",
        "this operation."
      ],
      "metadata": {
        "id": "hqt8HXoGXYTz"
      }
    },
    {
      "cell_type": "code",
      "source": [
        "start = time.time()\n",
        "dot_product_np = np.dot(array1, array2)\n",
        "end = time.time()\n",
        "print(f\"NumPy dot product time: {end - start:.5f} seconds\")"
      ],
      "metadata": {
        "colab": {
          "base_uri": "https://localhost:8080/"
        },
        "id": "9O--6on6XYdp",
        "outputId": "7fedc2da-5490-4533-e6f3-b8e624199eca"
      },
      "execution_count": 8,
      "outputs": [
        {
          "output_type": "stream",
          "name": "stdout",
          "text": [
            "NumPy dot product time: 0.00171 seconds\n"
          ]
        }
      ]
    },
    {
      "cell_type": "markdown",
      "source": [
        "Matrix Multiplication\n",
        "\n",
        "• Using Python lists, perform matrix multiplication of two matrices of size 1000x1000. Mea-\n",
        "sure and print the time taken for this operation."
      ],
      "metadata": {
        "id": "90FqgyuUXl_o"
      }
    },
    {
      "cell_type": "code",
      "source": [
        "matrix1 = [[i for i in range(matrix_size)] for _ in range(matrix_size)]\n",
        "matrix2 = [[i for i in range(matrix_size)] for _ in range(matrix_size)]\n",
        "\n",
        "matrix1_np = np.arange(matrix_size**2).reshape(matrix_size, matrix_size)\n",
        "matrix2_np = np.arange(matrix_size**2).reshape(matrix_size, matrix_size)"
      ],
      "metadata": {
        "id": "nFzagATTXmKz"
      },
      "execution_count": 9,
      "outputs": []
    },
    {
      "cell_type": "code",
      "source": [
        "start = time.time()\n",
        "result_matrix = [[sum(matrix1[i][k] * matrix2[k][j] for k in range(matrix_size)) for j in range(matrix_size)] for i in range(matrix_size)]\n",
        "end = time.time()\n",
        "print(f\"Python list matrix multiplication time: {end - start:.5f} seconds\")"
      ],
      "metadata": {
        "colab": {
          "base_uri": "https://localhost:8080/"
        },
        "id": "TBIHufsUYYul",
        "outputId": "6185babc-cff1-42ad-8aab-11d76bc01caa"
      },
      "execution_count": 10,
      "outputs": [
        {
          "output_type": "stream",
          "name": "stdout",
          "text": [
            "Python list matrix multiplication time: 138.12877 seconds\n"
          ]
        }
      ]
    },
    {
      "cell_type": "markdown",
      "source": [
        "Using NumPy arrays, perform matrix multiplication of two matrices of size 1000x1000.\n",
        "Measure and print the time taken for this operation."
      ],
      "metadata": {
        "id": "7ZQJzvBwXm-g"
      }
    },
    {
      "cell_type": "code",
      "source": [
        "start = time.time()\n",
        "result_matrix_np = np.dot(matrix1_np, matrix2_np)\n",
        "end = time.time()\n",
        "print(f\"NumPy matrix multiplication time: {end - start:.5f} seconds\")"
      ],
      "metadata": {
        "colab": {
          "base_uri": "https://localhost:8080/"
        },
        "id": "sSdTF79EXnJS",
        "outputId": "cc2a0383-381a-4c82-d4ff-ae08f54e7588"
      },
      "execution_count": 11,
      "outputs": [
        {
          "output_type": "stream",
          "name": "stdout",
          "text": [
            "NumPy matrix multiplication time: 1.11303 seconds\n"
          ]
        }
      ]
    }
  ]
}